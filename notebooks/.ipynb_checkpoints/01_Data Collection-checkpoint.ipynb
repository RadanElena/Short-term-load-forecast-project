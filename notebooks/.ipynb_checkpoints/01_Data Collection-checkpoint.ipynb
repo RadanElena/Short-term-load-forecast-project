version https://git-lfs.github.com/spec/v1
oid sha256:f51c1082bc7cb4ba4f700a5ab3c271bec80889ba9db943ba07634ff4ffdc4642
size 1421617
